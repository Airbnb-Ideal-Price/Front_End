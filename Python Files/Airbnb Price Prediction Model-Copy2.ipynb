{
 "cells": [
  {
   "cell_type": "markdown",
   "metadata": {},
   "source": [
    "# Libraries"
   ]
  },
  {
   "cell_type": "code",
   "execution_count": 1,
   "metadata": {},
   "outputs": [],
   "source": [
    "# Main\n",
    "import matplotlib.pyplot as plt\n",
    "import numpy as np\n",
    "import pandas as pd\n",
    "import seaborn as sns\n",
    "\n",
    "# Sklearn\n",
    "from sklearn.pipeline import make_pipeline\n",
    "from sklearn.feature_selection import SelectKBest\n",
    "from sklearn.linear_model import LinearRegression\n",
    "from sklearn.model_selection import GridSearchCV, train_test_split\n",
    "from sklearn.metrics import mean_absolute_error\n",
    "from sklearn.impute import SimpleImputer\n",
    "from sklearn.preprocessing import LabelEncoder, StandardScaler, OrdinalEncoder\n",
    "\n",
    "# Keras\n",
    "import tensorflow as tf\n",
    "from tensorflow.keras import regularizers, Model\n",
    "from tensorflow.keras.models import Sequential\n",
    "from tensorflow.keras.layers import Dense, Dropout, Embedding, Input, concatenate\n",
    "from tensorflow.keras.optimizers import Adam, Adamax, Nadam\n",
    "from tensorflow.keras.callbacks import EarlyStopping, TensorBoard, ModelCheckpoint\n",
    "from tensorflow.keras.wrappers.scikit_learn import KerasRegressor\n",
    "\n",
    "# Other\n",
    "import os"
   ]
  },
  {
   "cell_type": "markdown",
   "metadata": {},
   "source": [
    "# Setup"
   ]
  },
  {
   "cell_type": "code",
   "execution_count": 2,
   "metadata": {},
   "outputs": [],
   "source": [
    "pd.options.display.max_columns = None\n",
    "pd.options.display.max_rows = None\n",
    "pd.options.mode.chained_assignment = None"
   ]
  },
  {
   "cell_type": "code",
   "execution_count": 3,
   "metadata": {},
   "outputs": [],
   "source": [
    "plt.style.use('fivethirtyeight')"
   ]
  },
  {
   "cell_type": "code",
   "execution_count": 4,
   "metadata": {},
   "outputs": [],
   "source": [
    "path = \"../CSV Files\"\n",
    "\n",
    "train = pd.read_csv(path+\"/train.csv\", index_col=\"id\")\n",
    "test = pd.read_csv(path+\"/test.csv\",  index_col=\"id\")"
   ]
  },
  {
   "cell_type": "markdown",
   "metadata": {},
   "source": [
    "# Functions"
   ]
  },
  {
   "cell_type": "code",
   "execution_count": 5,
   "metadata": {},
   "outputs": [],
   "source": [
    "def wrangle(X):\n",
    "    # make a copy\n",
    "    X = X.copy()\n",
    "    \n",
    "    # encode \"t\" and \"f\" as 1's and 0's\n",
    "    X['host_has_profile_pic'][X['host_has_profile_pic']=='t'] = 1\n",
    "    X['host_has_profile_pic'][X['host_has_profile_pic']=='f'] = 0\n",
    "    \n",
    "    X['host_identity_verified'][X['host_identity_verified']=='t'] = 1\n",
    "    X['host_identity_verified'][X['host_identity_verified']=='f'] = 0\n",
    "    \n",
    "    X['host_has_profile_pic'] = X['host_has_profile_pic'].astype(float)\n",
    "    X['host_identity_verified'] = X['host_identity_verified'].astype(float)\n",
    "    \n",
    "    X['instant_bookable'][X['instant_bookable']=='t'] = 1\n",
    "    X['instant_bookable'][X['instant_bookable']=='f'] = 0\n",
    "    \n",
    "    # Group some of the many property types together\n",
    "    X['property_type'][X['property_type'].isin(['Boat','Tent','Castle','Yurt', 'Hut', 'Treehouse',\n",
    "                                                'Chalet','Earth House','Tipi','Cave',\n",
    "                                                'Train','Parking Space','Island','Casa particular',\n",
    "                                                'Lighthouse', 'Vacation home', 'Serviced apartment'])] = 'Other'\n",
    "\n",
    "    # columns with unusable variance\n",
    "    unusable_variance = ['zipcode']\n",
    "\n",
    "    # columns with high percentage of missing values\n",
    "    high_nans = ['first_review','host_response_rate','last_review',\n",
    "                 'review_scores_rating','thumbnail_url']\n",
    "\n",
    "    # categorical variables with high cardinality\n",
    "    # 'neighborhood' has 620 and 'thumbnail_url' has many thousands\n",
    "    high_card = ['neighbourhood','thumbnail_url','name','amenities',\n",
    "                 'description', 'host_since']\n",
    "\n",
    "    # Get the price and drop the log of price\n",
    "    X['price'] = np.exp(X['log_price'])\n",
    "    X = X.drop(['log_price'] + unusable_variance + high_nans + high_card, axis=1)\n",
    "\n",
    "    return X"
   ]
  },
  {
   "cell_type": "code",
   "execution_count": 6,
   "metadata": {},
   "outputs": [],
   "source": [
    "def prepare_inputs(X_train, X_test):\n",
    "    X_train_enc, X_test_enc = list(), list()\n",
    "    # label encode each column\n",
    "    for i in range(X_train.shape[1]):\n",
    "        le = LabelEncoder()\n",
    "        # encode\n",
    "        train_enc = le.fit_transform(X_train.iloc[:, i].values)\n",
    "        test_enc = le.fit_transform(X_test.iloc[:, i].values)\n",
    "        # store\n",
    "        X_train_enc.append(train_enc)\n",
    "        X_test_enc.append(test_enc)\n",
    "    return X_train_enc, X_test_enc"
   ]
  },
  {
   "cell_type": "code",
   "execution_count": 7,
   "metadata": {},
   "outputs": [],
   "source": [
    "def scale_inputs(X_train, X_test):\n",
    "    ss = StandardScaler()\n",
    "    ss.fit_transform(X_train, X_test)\n",
    "    return X_train, X_test"
   ]
  },
  {
   "cell_type": "code",
   "execution_count": 8,
   "metadata": {},
   "outputs": [],
   "source": [
    "def model_creation_emb():\n",
    "    lr = .0065\n",
    "    opt = Adam(lr)\n",
    "    prob = .75\n",
    "    l2 = 0.5\n",
    "    \n",
    "    il_nodes = 64*8\n",
    "    hl_nodes_1 = 64*8\n",
    "    hl_nodes_2 = 64*8\n",
    "#     hl_nodes_3 = 64*8\n",
    "#     hl_nodes_4 = 64*8\n",
    "    ol_nodes = 1\n",
    "    \n",
    "    dense = Dense(il_nodes,\n",
    "                  activation='relu',\n",
    "                  kernel_regularizer=regularizers.l2(l2))(emb)\n",
    "    \n",
    "    dense = Dense(hl_nodes_1, activation='relu',\n",
    "                  kernel_regularizer=regularizers.l2(l2))(dense)\n",
    "    \n",
    "    dropout = Dropout(prob)(dense)\n",
    "    \n",
    "    dense = Dense(hl_nodes_2, activation='relu',\n",
    "                  kernel_regularizer=regularizers.l2(l2))(dense)\n",
    "    \n",
    "    dropout = Dropout(prob)(dense)\n",
    "    \n",
    "    output = Dense(ol_nodes,\n",
    "                   activation='linear')(dense)\n",
    "    \n",
    "    model = Model(inputs=in_layers,\n",
    "                  outputs=output)\n",
    "    \n",
    "    model.compile(optimizer=opt,\n",
    "                  loss='mean_squared_error',\n",
    "                  metrics=['mean_absolute_error'])\n",
    "    \n",
    "    return model"
   ]
  },
  {
   "cell_type": "markdown",
   "metadata": {},
   "source": [
    "# EDA"
   ]
  },
  {
   "cell_type": "code",
   "execution_count": 9,
   "metadata": {
    "scrolled": true
   },
   "outputs": [
    {
     "name": "stdout",
     "output_type": "stream",
     "text": [
      "(74111, 28)\n"
     ]
    },
    {
     "data": {
      "text/html": [
       "<div>\n",
       "<style scoped>\n",
       "    .dataframe tbody tr th:only-of-type {\n",
       "        vertical-align: middle;\n",
       "    }\n",
       "\n",
       "    .dataframe tbody tr th {\n",
       "        vertical-align: top;\n",
       "    }\n",
       "\n",
       "    .dataframe thead th {\n",
       "        text-align: right;\n",
       "    }\n",
       "</style>\n",
       "<table border=\"1\" class=\"dataframe\">\n",
       "  <thead>\n",
       "    <tr style=\"text-align: right;\">\n",
       "      <th></th>\n",
       "      <th>log_price</th>\n",
       "      <th>property_type</th>\n",
       "      <th>room_type</th>\n",
       "      <th>amenities</th>\n",
       "      <th>accommodates</th>\n",
       "      <th>bathrooms</th>\n",
       "      <th>bed_type</th>\n",
       "      <th>cancellation_policy</th>\n",
       "      <th>cleaning_fee</th>\n",
       "      <th>city</th>\n",
       "      <th>description</th>\n",
       "      <th>first_review</th>\n",
       "      <th>host_has_profile_pic</th>\n",
       "      <th>host_identity_verified</th>\n",
       "      <th>host_response_rate</th>\n",
       "      <th>host_since</th>\n",
       "      <th>instant_bookable</th>\n",
       "      <th>last_review</th>\n",
       "      <th>latitude</th>\n",
       "      <th>longitude</th>\n",
       "      <th>name</th>\n",
       "      <th>neighbourhood</th>\n",
       "      <th>number_of_reviews</th>\n",
       "      <th>review_scores_rating</th>\n",
       "      <th>thumbnail_url</th>\n",
       "      <th>zipcode</th>\n",
       "      <th>bedrooms</th>\n",
       "      <th>beds</th>\n",
       "    </tr>\n",
       "    <tr>\n",
       "      <th>id</th>\n",
       "      <th></th>\n",
       "      <th></th>\n",
       "      <th></th>\n",
       "      <th></th>\n",
       "      <th></th>\n",
       "      <th></th>\n",
       "      <th></th>\n",
       "      <th></th>\n",
       "      <th></th>\n",
       "      <th></th>\n",
       "      <th></th>\n",
       "      <th></th>\n",
       "      <th></th>\n",
       "      <th></th>\n",
       "      <th></th>\n",
       "      <th></th>\n",
       "      <th></th>\n",
       "      <th></th>\n",
       "      <th></th>\n",
       "      <th></th>\n",
       "      <th></th>\n",
       "      <th></th>\n",
       "      <th></th>\n",
       "      <th></th>\n",
       "      <th></th>\n",
       "      <th></th>\n",
       "      <th></th>\n",
       "      <th></th>\n",
       "    </tr>\n",
       "  </thead>\n",
       "  <tbody>\n",
       "    <tr>\n",
       "      <th>6901257</th>\n",
       "      <td>5.010635</td>\n",
       "      <td>Apartment</td>\n",
       "      <td>Entire home/apt</td>\n",
       "      <td>{\"Wireless Internet\",\"Air conditioning\",Kitche...</td>\n",
       "      <td>3</td>\n",
       "      <td>1.0</td>\n",
       "      <td>Real Bed</td>\n",
       "      <td>strict</td>\n",
       "      <td>True</td>\n",
       "      <td>NYC</td>\n",
       "      <td>Beautiful, sunlit brownstone 1-bedroom in the ...</td>\n",
       "      <td>2016-06-18</td>\n",
       "      <td>t</td>\n",
       "      <td>t</td>\n",
       "      <td>NaN</td>\n",
       "      <td>2012-03-26</td>\n",
       "      <td>f</td>\n",
       "      <td>2016-07-18</td>\n",
       "      <td>40.696524</td>\n",
       "      <td>-73.991617</td>\n",
       "      <td>Beautiful brownstone 1-bedroom</td>\n",
       "      <td>Brooklyn Heights</td>\n",
       "      <td>2</td>\n",
       "      <td>100.0</td>\n",
       "      <td>https://a0.muscache.com/im/pictures/6d7cbbf7-c...</td>\n",
       "      <td>11201</td>\n",
       "      <td>1.0</td>\n",
       "      <td>1.0</td>\n",
       "    </tr>\n",
       "    <tr>\n",
       "      <th>6304928</th>\n",
       "      <td>5.129899</td>\n",
       "      <td>Apartment</td>\n",
       "      <td>Entire home/apt</td>\n",
       "      <td>{\"Wireless Internet\",\"Air conditioning\",Kitche...</td>\n",
       "      <td>7</td>\n",
       "      <td>1.0</td>\n",
       "      <td>Real Bed</td>\n",
       "      <td>strict</td>\n",
       "      <td>True</td>\n",
       "      <td>NYC</td>\n",
       "      <td>Enjoy travelling during your stay in Manhattan...</td>\n",
       "      <td>2017-08-05</td>\n",
       "      <td>t</td>\n",
       "      <td>f</td>\n",
       "      <td>100%</td>\n",
       "      <td>2017-06-19</td>\n",
       "      <td>t</td>\n",
       "      <td>2017-09-23</td>\n",
       "      <td>40.766115</td>\n",
       "      <td>-73.989040</td>\n",
       "      <td>Superb 3BR Apt Located Near Times Square</td>\n",
       "      <td>Hell's Kitchen</td>\n",
       "      <td>6</td>\n",
       "      <td>93.0</td>\n",
       "      <td>https://a0.muscache.com/im/pictures/348a55fe-4...</td>\n",
       "      <td>10019</td>\n",
       "      <td>3.0</td>\n",
       "      <td>3.0</td>\n",
       "    </tr>\n",
       "    <tr>\n",
       "      <th>7919400</th>\n",
       "      <td>4.976734</td>\n",
       "      <td>Apartment</td>\n",
       "      <td>Entire home/apt</td>\n",
       "      <td>{TV,\"Cable TV\",\"Wireless Internet\",\"Air condit...</td>\n",
       "      <td>5</td>\n",
       "      <td>1.0</td>\n",
       "      <td>Real Bed</td>\n",
       "      <td>moderate</td>\n",
       "      <td>True</td>\n",
       "      <td>NYC</td>\n",
       "      <td>The Oasis comes complete with a full backyard ...</td>\n",
       "      <td>2017-04-30</td>\n",
       "      <td>t</td>\n",
       "      <td>t</td>\n",
       "      <td>100%</td>\n",
       "      <td>2016-10-25</td>\n",
       "      <td>t</td>\n",
       "      <td>2017-09-14</td>\n",
       "      <td>40.808110</td>\n",
       "      <td>-73.943756</td>\n",
       "      <td>The Garden Oasis</td>\n",
       "      <td>Harlem</td>\n",
       "      <td>10</td>\n",
       "      <td>92.0</td>\n",
       "      <td>https://a0.muscache.com/im/pictures/6fae5362-9...</td>\n",
       "      <td>10027</td>\n",
       "      <td>1.0</td>\n",
       "      <td>3.0</td>\n",
       "    </tr>\n",
       "    <tr>\n",
       "      <th>13418779</th>\n",
       "      <td>6.620073</td>\n",
       "      <td>House</td>\n",
       "      <td>Entire home/apt</td>\n",
       "      <td>{TV,\"Cable TV\",Internet,\"Wireless Internet\",Ki...</td>\n",
       "      <td>4</td>\n",
       "      <td>1.0</td>\n",
       "      <td>Real Bed</td>\n",
       "      <td>flexible</td>\n",
       "      <td>True</td>\n",
       "      <td>SF</td>\n",
       "      <td>This light-filled home-away-from-home is super...</td>\n",
       "      <td>NaN</td>\n",
       "      <td>t</td>\n",
       "      <td>t</td>\n",
       "      <td>NaN</td>\n",
       "      <td>2015-04-19</td>\n",
       "      <td>f</td>\n",
       "      <td>NaN</td>\n",
       "      <td>37.772004</td>\n",
       "      <td>-122.431619</td>\n",
       "      <td>Beautiful Flat in the Heart of SF!</td>\n",
       "      <td>Lower Haight</td>\n",
       "      <td>0</td>\n",
       "      <td>NaN</td>\n",
       "      <td>https://a0.muscache.com/im/pictures/72208dad-9...</td>\n",
       "      <td>94117.0</td>\n",
       "      <td>2.0</td>\n",
       "      <td>2.0</td>\n",
       "    </tr>\n",
       "    <tr>\n",
       "      <th>3808709</th>\n",
       "      <td>4.744932</td>\n",
       "      <td>Apartment</td>\n",
       "      <td>Entire home/apt</td>\n",
       "      <td>{TV,Internet,\"Wireless Internet\",\"Air conditio...</td>\n",
       "      <td>2</td>\n",
       "      <td>1.0</td>\n",
       "      <td>Real Bed</td>\n",
       "      <td>moderate</td>\n",
       "      <td>True</td>\n",
       "      <td>DC</td>\n",
       "      <td>Cool, cozy, and comfortable studio located in ...</td>\n",
       "      <td>2015-05-12</td>\n",
       "      <td>t</td>\n",
       "      <td>t</td>\n",
       "      <td>100%</td>\n",
       "      <td>2015-03-01</td>\n",
       "      <td>t</td>\n",
       "      <td>2017-01-22</td>\n",
       "      <td>38.925627</td>\n",
       "      <td>-77.034596</td>\n",
       "      <td>Great studio in midtown DC</td>\n",
       "      <td>Columbia Heights</td>\n",
       "      <td>4</td>\n",
       "      <td>40.0</td>\n",
       "      <td>NaN</td>\n",
       "      <td>20009</td>\n",
       "      <td>0.0</td>\n",
       "      <td>1.0</td>\n",
       "    </tr>\n",
       "  </tbody>\n",
       "</table>\n",
       "</div>"
      ],
      "text/plain": [
       "          log_price property_type        room_type  \\\n",
       "id                                                   \n",
       "6901257    5.010635     Apartment  Entire home/apt   \n",
       "6304928    5.129899     Apartment  Entire home/apt   \n",
       "7919400    4.976734     Apartment  Entire home/apt   \n",
       "13418779   6.620073         House  Entire home/apt   \n",
       "3808709    4.744932     Apartment  Entire home/apt   \n",
       "\n",
       "                                                  amenities  accommodates  \\\n",
       "id                                                                          \n",
       "6901257   {\"Wireless Internet\",\"Air conditioning\",Kitche...             3   \n",
       "6304928   {\"Wireless Internet\",\"Air conditioning\",Kitche...             7   \n",
       "7919400   {TV,\"Cable TV\",\"Wireless Internet\",\"Air condit...             5   \n",
       "13418779  {TV,\"Cable TV\",Internet,\"Wireless Internet\",Ki...             4   \n",
       "3808709   {TV,Internet,\"Wireless Internet\",\"Air conditio...             2   \n",
       "\n",
       "          bathrooms  bed_type cancellation_policy  cleaning_fee city  \\\n",
       "id                                                                     \n",
       "6901257         1.0  Real Bed              strict          True  NYC   \n",
       "6304928         1.0  Real Bed              strict          True  NYC   \n",
       "7919400         1.0  Real Bed            moderate          True  NYC   \n",
       "13418779        1.0  Real Bed            flexible          True   SF   \n",
       "3808709         1.0  Real Bed            moderate          True   DC   \n",
       "\n",
       "                                                description first_review  \\\n",
       "id                                                                         \n",
       "6901257   Beautiful, sunlit brownstone 1-bedroom in the ...   2016-06-18   \n",
       "6304928   Enjoy travelling during your stay in Manhattan...   2017-08-05   \n",
       "7919400   The Oasis comes complete with a full backyard ...   2017-04-30   \n",
       "13418779  This light-filled home-away-from-home is super...          NaN   \n",
       "3808709   Cool, cozy, and comfortable studio located in ...   2015-05-12   \n",
       "\n",
       "         host_has_profile_pic host_identity_verified host_response_rate  \\\n",
       "id                                                                        \n",
       "6901257                     t                      t                NaN   \n",
       "6304928                     t                      f               100%   \n",
       "7919400                     t                      t               100%   \n",
       "13418779                    t                      t                NaN   \n",
       "3808709                     t                      t               100%   \n",
       "\n",
       "          host_since instant_bookable last_review   latitude   longitude  \\\n",
       "id                                                                         \n",
       "6901257   2012-03-26                f  2016-07-18  40.696524  -73.991617   \n",
       "6304928   2017-06-19                t  2017-09-23  40.766115  -73.989040   \n",
       "7919400   2016-10-25                t  2017-09-14  40.808110  -73.943756   \n",
       "13418779  2015-04-19                f         NaN  37.772004 -122.431619   \n",
       "3808709   2015-03-01                t  2017-01-22  38.925627  -77.034596   \n",
       "\n",
       "                                              name     neighbourhood  \\\n",
       "id                                                                     \n",
       "6901257             Beautiful brownstone 1-bedroom  Brooklyn Heights   \n",
       "6304928   Superb 3BR Apt Located Near Times Square    Hell's Kitchen   \n",
       "7919400                           The Garden Oasis            Harlem   \n",
       "13418779        Beautiful Flat in the Heart of SF!      Lower Haight   \n",
       "3808709                 Great studio in midtown DC  Columbia Heights   \n",
       "\n",
       "          number_of_reviews  review_scores_rating  \\\n",
       "id                                                  \n",
       "6901257                   2                 100.0   \n",
       "6304928                   6                  93.0   \n",
       "7919400                  10                  92.0   \n",
       "13418779                  0                   NaN   \n",
       "3808709                   4                  40.0   \n",
       "\n",
       "                                              thumbnail_url  zipcode  \\\n",
       "id                                                                     \n",
       "6901257   https://a0.muscache.com/im/pictures/6d7cbbf7-c...    11201   \n",
       "6304928   https://a0.muscache.com/im/pictures/348a55fe-4...    10019   \n",
       "7919400   https://a0.muscache.com/im/pictures/6fae5362-9...    10027   \n",
       "13418779  https://a0.muscache.com/im/pictures/72208dad-9...  94117.0   \n",
       "3808709                                                 NaN    20009   \n",
       "\n",
       "          bedrooms  beds  \n",
       "id                        \n",
       "6901257        1.0   1.0  \n",
       "6304928        3.0   3.0  \n",
       "7919400        1.0   3.0  \n",
       "13418779       2.0   2.0  \n",
       "3808709        0.0   1.0  "
      ]
     },
     "execution_count": 9,
     "metadata": {},
     "output_type": "execute_result"
    }
   ],
   "source": [
    "print(train.shape)\n",
    "train.head()"
   ]
  },
  {
   "cell_type": "code",
   "execution_count": 10,
   "metadata": {
    "scrolled": true
   },
   "outputs": [
    {
     "name": "stdout",
     "output_type": "stream",
     "text": [
      "<class 'pandas.core.frame.DataFrame'>\n",
      "Int64Index: 74111 entries, 6901257 to 3534845\n",
      "Data columns (total 28 columns):\n",
      " #   Column                  Non-Null Count  Dtype  \n",
      "---  ------                  --------------  -----  \n",
      " 0   log_price               74111 non-null  float64\n",
      " 1   property_type           74111 non-null  object \n",
      " 2   room_type               74111 non-null  object \n",
      " 3   amenities               74111 non-null  object \n",
      " 4   accommodates            74111 non-null  int64  \n",
      " 5   bathrooms               73911 non-null  float64\n",
      " 6   bed_type                74111 non-null  object \n",
      " 7   cancellation_policy     74111 non-null  object \n",
      " 8   cleaning_fee            74111 non-null  bool   \n",
      " 9   city                    74111 non-null  object \n",
      " 10  description             74111 non-null  object \n",
      " 11  first_review            58247 non-null  object \n",
      " 12  host_has_profile_pic    73923 non-null  object \n",
      " 13  host_identity_verified  73923 non-null  object \n",
      " 14  host_response_rate      55812 non-null  object \n",
      " 15  host_since              73923 non-null  object \n",
      " 16  instant_bookable        74111 non-null  object \n",
      " 17  last_review             58284 non-null  object \n",
      " 18  latitude                74111 non-null  float64\n",
      " 19  longitude               74111 non-null  float64\n",
      " 20  name                    74111 non-null  object \n",
      " 21  neighbourhood           67239 non-null  object \n",
      " 22  number_of_reviews       74111 non-null  int64  \n",
      " 23  review_scores_rating    57389 non-null  float64\n",
      " 24  thumbnail_url           65895 non-null  object \n",
      " 25  zipcode                 73145 non-null  object \n",
      " 26  bedrooms                74020 non-null  float64\n",
      " 27  beds                    73980 non-null  float64\n",
      "dtypes: bool(1), float64(7), int64(2), object(18)\n",
      "memory usage: 15.9+ MB\n"
     ]
    }
   ],
   "source": [
    "train.info()"
   ]
  },
  {
   "cell_type": "code",
   "execution_count": 11,
   "metadata": {
    "scrolled": true
   },
   "outputs": [],
   "source": [
    "train = wrangle(train)"
   ]
  },
  {
   "cell_type": "code",
   "execution_count": 12,
   "metadata": {
    "scrolled": true
   },
   "outputs": [
    {
     "data": {
      "text/html": [
       "<div>\n",
       "<style scoped>\n",
       "    .dataframe tbody tr th:only-of-type {\n",
       "        vertical-align: middle;\n",
       "    }\n",
       "\n",
       "    .dataframe tbody tr th {\n",
       "        vertical-align: top;\n",
       "    }\n",
       "\n",
       "    .dataframe thead th {\n",
       "        text-align: right;\n",
       "    }\n",
       "</style>\n",
       "<table border=\"1\" class=\"dataframe\">\n",
       "  <thead>\n",
       "    <tr style=\"text-align: right;\">\n",
       "      <th></th>\n",
       "      <th>property_type</th>\n",
       "      <th>room_type</th>\n",
       "      <th>accommodates</th>\n",
       "      <th>bathrooms</th>\n",
       "      <th>bed_type</th>\n",
       "      <th>cancellation_policy</th>\n",
       "      <th>cleaning_fee</th>\n",
       "      <th>city</th>\n",
       "      <th>host_has_profile_pic</th>\n",
       "      <th>host_identity_verified</th>\n",
       "      <th>instant_bookable</th>\n",
       "      <th>latitude</th>\n",
       "      <th>longitude</th>\n",
       "      <th>number_of_reviews</th>\n",
       "      <th>bedrooms</th>\n",
       "      <th>beds</th>\n",
       "      <th>price</th>\n",
       "    </tr>\n",
       "    <tr>\n",
       "      <th>id</th>\n",
       "      <th></th>\n",
       "      <th></th>\n",
       "      <th></th>\n",
       "      <th></th>\n",
       "      <th></th>\n",
       "      <th></th>\n",
       "      <th></th>\n",
       "      <th></th>\n",
       "      <th></th>\n",
       "      <th></th>\n",
       "      <th></th>\n",
       "      <th></th>\n",
       "      <th></th>\n",
       "      <th></th>\n",
       "      <th></th>\n",
       "      <th></th>\n",
       "      <th></th>\n",
       "    </tr>\n",
       "  </thead>\n",
       "  <tbody>\n",
       "    <tr>\n",
       "      <th>6901257</th>\n",
       "      <td>Apartment</td>\n",
       "      <td>Entire home/apt</td>\n",
       "      <td>3</td>\n",
       "      <td>1.0</td>\n",
       "      <td>Real Bed</td>\n",
       "      <td>strict</td>\n",
       "      <td>True</td>\n",
       "      <td>NYC</td>\n",
       "      <td>1.0</td>\n",
       "      <td>1.0</td>\n",
       "      <td>0</td>\n",
       "      <td>40.696524</td>\n",
       "      <td>-73.991617</td>\n",
       "      <td>2</td>\n",
       "      <td>1.0</td>\n",
       "      <td>1.0</td>\n",
       "      <td>150.0</td>\n",
       "    </tr>\n",
       "    <tr>\n",
       "      <th>6304928</th>\n",
       "      <td>Apartment</td>\n",
       "      <td>Entire home/apt</td>\n",
       "      <td>7</td>\n",
       "      <td>1.0</td>\n",
       "      <td>Real Bed</td>\n",
       "      <td>strict</td>\n",
       "      <td>True</td>\n",
       "      <td>NYC</td>\n",
       "      <td>1.0</td>\n",
       "      <td>0.0</td>\n",
       "      <td>1</td>\n",
       "      <td>40.766115</td>\n",
       "      <td>-73.989040</td>\n",
       "      <td>6</td>\n",
       "      <td>3.0</td>\n",
       "      <td>3.0</td>\n",
       "      <td>169.0</td>\n",
       "    </tr>\n",
       "    <tr>\n",
       "      <th>7919400</th>\n",
       "      <td>Apartment</td>\n",
       "      <td>Entire home/apt</td>\n",
       "      <td>5</td>\n",
       "      <td>1.0</td>\n",
       "      <td>Real Bed</td>\n",
       "      <td>moderate</td>\n",
       "      <td>True</td>\n",
       "      <td>NYC</td>\n",
       "      <td>1.0</td>\n",
       "      <td>1.0</td>\n",
       "      <td>1</td>\n",
       "      <td>40.808110</td>\n",
       "      <td>-73.943756</td>\n",
       "      <td>10</td>\n",
       "      <td>1.0</td>\n",
       "      <td>3.0</td>\n",
       "      <td>145.0</td>\n",
       "    </tr>\n",
       "    <tr>\n",
       "      <th>13418779</th>\n",
       "      <td>House</td>\n",
       "      <td>Entire home/apt</td>\n",
       "      <td>4</td>\n",
       "      <td>1.0</td>\n",
       "      <td>Real Bed</td>\n",
       "      <td>flexible</td>\n",
       "      <td>True</td>\n",
       "      <td>SF</td>\n",
       "      <td>1.0</td>\n",
       "      <td>1.0</td>\n",
       "      <td>0</td>\n",
       "      <td>37.772004</td>\n",
       "      <td>-122.431619</td>\n",
       "      <td>0</td>\n",
       "      <td>2.0</td>\n",
       "      <td>2.0</td>\n",
       "      <td>750.0</td>\n",
       "    </tr>\n",
       "    <tr>\n",
       "      <th>3808709</th>\n",
       "      <td>Apartment</td>\n",
       "      <td>Entire home/apt</td>\n",
       "      <td>2</td>\n",
       "      <td>1.0</td>\n",
       "      <td>Real Bed</td>\n",
       "      <td>moderate</td>\n",
       "      <td>True</td>\n",
       "      <td>DC</td>\n",
       "      <td>1.0</td>\n",
       "      <td>1.0</td>\n",
       "      <td>1</td>\n",
       "      <td>38.925627</td>\n",
       "      <td>-77.034596</td>\n",
       "      <td>4</td>\n",
       "      <td>0.0</td>\n",
       "      <td>1.0</td>\n",
       "      <td>115.0</td>\n",
       "    </tr>\n",
       "  </tbody>\n",
       "</table>\n",
       "</div>"
      ],
      "text/plain": [
       "         property_type        room_type  accommodates  bathrooms  bed_type  \\\n",
       "id                                                                           \n",
       "6901257      Apartment  Entire home/apt             3        1.0  Real Bed   \n",
       "6304928      Apartment  Entire home/apt             7        1.0  Real Bed   \n",
       "7919400      Apartment  Entire home/apt             5        1.0  Real Bed   \n",
       "13418779         House  Entire home/apt             4        1.0  Real Bed   \n",
       "3808709      Apartment  Entire home/apt             2        1.0  Real Bed   \n",
       "\n",
       "         cancellation_policy  cleaning_fee city  host_has_profile_pic  \\\n",
       "id                                                                      \n",
       "6901257               strict          True  NYC                   1.0   \n",
       "6304928               strict          True  NYC                   1.0   \n",
       "7919400             moderate          True  NYC                   1.0   \n",
       "13418779            flexible          True   SF                   1.0   \n",
       "3808709             moderate          True   DC                   1.0   \n",
       "\n",
       "          host_identity_verified instant_bookable   latitude   longitude  \\\n",
       "id                                                                         \n",
       "6901257                      1.0                0  40.696524  -73.991617   \n",
       "6304928                      0.0                1  40.766115  -73.989040   \n",
       "7919400                      1.0                1  40.808110  -73.943756   \n",
       "13418779                     1.0                0  37.772004 -122.431619   \n",
       "3808709                      1.0                1  38.925627  -77.034596   \n",
       "\n",
       "          number_of_reviews  bedrooms  beds  price  \n",
       "id                                                  \n",
       "6901257                   2       1.0   1.0  150.0  \n",
       "6304928                   6       3.0   3.0  169.0  \n",
       "7919400                  10       1.0   3.0  145.0  \n",
       "13418779                  0       2.0   2.0  750.0  \n",
       "3808709                   4       0.0   1.0  115.0  "
      ]
     },
     "execution_count": 12,
     "metadata": {},
     "output_type": "execute_result"
    }
   ],
   "source": [
    "train.head()"
   ]
  },
  {
   "cell_type": "code",
   "execution_count": 13,
   "metadata": {
    "scrolled": true
   },
   "outputs": [
    {
     "name": "stdout",
     "output_type": "stream",
     "text": [
      "<class 'pandas.core.frame.DataFrame'>\n",
      "Int64Index: 74111 entries, 6901257 to 3534845\n",
      "Data columns (total 17 columns):\n",
      " #   Column                  Non-Null Count  Dtype  \n",
      "---  ------                  --------------  -----  \n",
      " 0   property_type           74111 non-null  object \n",
      " 1   room_type               74111 non-null  object \n",
      " 2   accommodates            74111 non-null  int64  \n",
      " 3   bathrooms               73911 non-null  float64\n",
      " 4   bed_type                74111 non-null  object \n",
      " 5   cancellation_policy     74111 non-null  object \n",
      " 6   cleaning_fee            74111 non-null  bool   \n",
      " 7   city                    74111 non-null  object \n",
      " 8   host_has_profile_pic    73923 non-null  float64\n",
      " 9   host_identity_verified  73923 non-null  float64\n",
      " 10  instant_bookable        74111 non-null  object \n",
      " 11  latitude                74111 non-null  float64\n",
      " 12  longitude               74111 non-null  float64\n",
      " 13  number_of_reviews       74111 non-null  int64  \n",
      " 14  bedrooms                74020 non-null  float64\n",
      " 15  beds                    73980 non-null  float64\n",
      " 16  price                   74111 non-null  float64\n",
      "dtypes: bool(1), float64(8), int64(2), object(6)\n",
      "memory usage: 9.7+ MB\n"
     ]
    }
   ],
   "source": [
    "train.info()"
   ]
  },
  {
   "cell_type": "markdown",
   "metadata": {},
   "source": [
    "# Split"
   ]
  },
  {
   "cell_type": "code",
   "execution_count": 14,
   "metadata": {
    "scrolled": true
   },
   "outputs": [],
   "source": [
    "target = 'price'\n",
    "X = train.drop(target, axis=1)\n",
    "y = train[target]"
   ]
  },
  {
   "cell_type": "code",
   "execution_count": 15,
   "metadata": {},
   "outputs": [],
   "source": [
    "X_train, X_test, y_train, y_test = train_test_split(X, y, \n",
    "                                                    test_size=.20,\n",
    "                                                    random_state=0)"
   ]
  },
  {
   "cell_type": "code",
   "execution_count": 16,
   "metadata": {},
   "outputs": [
    {
     "name": "stdout",
     "output_type": "stream",
     "text": [
      "(59288, 16)\n",
      "(14823, 16)\n"
     ]
    }
   ],
   "source": [
    "print(X_train.shape)\n",
    "print(X_test.shape)"
   ]
  },
  {
   "cell_type": "markdown",
   "metadata": {},
   "source": [
    "# Baseline"
   ]
  },
  {
   "cell_type": "code",
   "execution_count": 17,
   "metadata": {},
   "outputs": [
    {
     "name": "stdout",
     "output_type": "stream",
     "text": [
      "Baseline MAE: 97.59\n"
     ]
    }
   ],
   "source": [
    "baseline = mean_absolute_error(y_train, [y_train.mean()] * len(y_train))\n",
    "print('Baseline MAE:', round(baseline,2))"
   ]
  },
  {
   "cell_type": "markdown",
   "metadata": {},
   "source": [
    "# Pre-fitting"
   ]
  },
  {
   "cell_type": "code",
   "execution_count": 18,
   "metadata": {
    "scrolled": true
   },
   "outputs": [],
   "source": [
    "X_train, X_test = prepare_inputs(X_train, X_test)"
   ]
  },
  {
   "cell_type": "code",
   "execution_count": 19,
   "metadata": {},
   "outputs": [],
   "source": [
    "X_train, X_test = scale_inputs(X_train, X_test)"
   ]
  },
  {
   "cell_type": "code",
   "execution_count": 20,
   "metadata": {
    "scrolled": true
   },
   "outputs": [],
   "source": [
    "in_layers, em_layers = list(), list()\n",
    "\n",
    "for i in range(len(X_train)):\n",
    "    n_labels = len(np.unique(X_train[i]))\n",
    "    in_layer = Input(shape=(1,))\n",
    "    em_layer = Embedding(n_labels, 10)(in_layer)\n",
    "    in_layers.append(in_layer)\n",
    "    em_layers.append(em_layer)\n",
    "    \n",
    "emb = concatenate(em_layers)"
   ]
  },
  {
   "cell_type": "markdown",
   "metadata": {},
   "source": [
    "# Model"
   ]
  },
  {
   "cell_type": "code",
   "execution_count": 21,
   "metadata": {},
   "outputs": [],
   "source": [
    "model = KerasRegressor(model_creation_emb, verbose=1)"
   ]
  },
  {
   "cell_type": "code",
   "execution_count": 22,
   "metadata": {},
   "outputs": [],
   "source": [
    "!rm -rf ./logs/"
   ]
  },
  {
   "cell_type": "code",
   "execution_count": 23,
   "metadata": {},
   "outputs": [],
   "source": [
    "%load_ext tensorboard\n",
    "\n",
    "logdir = os.path.join(\"logs\")\n",
    "\n",
    "board_callback = TensorBoard(logdir, histogram_freq=1)\n",
    "\n",
    "# Not in use.\n",
    "stop = EarlyStopping(monitor=\"val_mean_absolute_error\",\n",
    "                     min_delta=1,\n",
    "                     patience=3)\n",
    "\n",
    "checkpoint = ModelCheckpoint(\"weights_best.h5\", \n",
    "                             save_weights_only=True)"
   ]
  },
  {
   "cell_type": "code",
   "execution_count": 24,
   "metadata": {},
   "outputs": [],
   "source": [
    "%reload_ext tensorboard"
   ]
  },
  {
   "cell_type": "code",
   "execution_count": 25,
   "metadata": {
    "scrolled": true
   },
   "outputs": [
    {
     "name": "stdout",
     "output_type": "stream",
     "text": [
      "Epoch 1/32\n",
      "  1/116 [..............................] - ETA: 0s - loss: 54509.4336 - mean_absolute_error: 156.4500WARNING:tensorflow:From c:\\users\\lester\\.virtualenvs\\front_end-otay-o1y\\lib\\site-packages\\tensorflow\\python\\ops\\summary_ops_v2.py:1277: stop (from tensorflow.python.eager.profiler) is deprecated and will be removed after 2020-07-01.\n",
      "Instructions for updating:\n",
      "use `tf.profiler.experimental.stop` instead.\n",
      "  2/116 [..............................] - ETA: 4s - loss: 65622.1172 - mean_absolute_error: 167.0771WARNING:tensorflow:Callbacks method `on_train_batch_end` is slow compared to the batch time (batch time: 0.0155s vs `on_train_batch_end` time: 0.0600s). Check your callbacks.\n",
      "116/116 [==============================] - 2s 21ms/step - loss: 19747.6270 - mean_absolute_error: 75.0893 - val_loss: 16883.8906 - val_mean_absolute_error: 78.1361\n",
      "Epoch 2/32\n",
      "116/116 [==============================] - 2s 19ms/step - loss: 10802.8857 - mean_absolute_error: 50.7669 - val_loss: 26087.6836 - val_mean_absolute_error: 91.1930\n",
      "Epoch 3/32\n",
      "116/116 [==============================] - 2s 18ms/step - loss: 6870.0991 - mean_absolute_error: 40.8404 - val_loss: 20762.1582 - val_mean_absolute_error: 78.9124\n",
      "Epoch 4/32\n",
      "116/116 [==============================] - 2s 18ms/step - loss: 4022.3337 - mean_absolute_error: 32.0686 - val_loss: 19051.7344 - val_mean_absolute_error: 73.6821\n",
      "Epoch 5/32\n",
      "116/116 [==============================] - 2s 19ms/step - loss: 1949.3013 - mean_absolute_error: 21.0943 - val_loss: 18503.3789 - val_mean_absolute_error: 72.7937\n",
      "Epoch 6/32\n",
      "116/116 [==============================] - 2s 19ms/step - loss: 1121.8069 - mean_absolute_error: 15.2774 - val_loss: 17988.8574 - val_mean_absolute_error: 71.4576\n",
      "Epoch 7/32\n",
      "116/116 [==============================] - 2s 18ms/step - loss: 766.4955 - mean_absolute_error: 12.3522 - val_loss: 18453.0918 - val_mean_absolute_error: 73.6599\n",
      "Epoch 8/32\n",
      "116/116 [==============================] - 2s 18ms/step - loss: 574.2469 - mean_absolute_error: 10.1848 - val_loss: 18900.8418 - val_mean_absolute_error: 72.8199\n",
      "Epoch 9/32\n",
      "116/116 [==============================] - 2s 19ms/step - loss: 506.1656 - mean_absolute_error: 9.5594 - val_loss: 18565.6562 - val_mean_absolute_error: 73.5873\n",
      "Epoch 10/32\n",
      "116/116 [==============================] - 2s 18ms/step - loss: 483.2481 - mean_absolute_error: 9.6943 - val_loss: 18905.0566 - val_mean_absolute_error: 74.3213\n",
      "Epoch 11/32\n",
      "116/116 [==============================] - 2s 18ms/step - loss: 513.1164 - mean_absolute_error: 10.3706 - val_loss: 18364.0586 - val_mean_absolute_error: 73.2868\n",
      "Epoch 12/32\n",
      "116/116 [==============================] - 2s 18ms/step - loss: 542.8813 - mean_absolute_error: 10.7461 - val_loss: 19046.9883 - val_mean_absolute_error: 75.4867\n",
      "Epoch 13/32\n",
      "116/116 [==============================] - 2s 18ms/step - loss: 559.2227 - mean_absolute_error: 11.1152 - val_loss: 18784.5723 - val_mean_absolute_error: 73.2846\n",
      "Epoch 14/32\n",
      "116/116 [==============================] - 2s 18ms/step - loss: 574.2357 - mean_absolute_error: 11.5518 - val_loss: 18942.6523 - val_mean_absolute_error: 75.4440\n",
      "Epoch 15/32\n",
      "116/116 [==============================] - 2s 17ms/step - loss: 577.7795 - mean_absolute_error: 11.7492 - val_loss: 18530.5352 - val_mean_absolute_error: 72.8492\n",
      "Epoch 16/32\n",
      "116/116 [==============================] - 2s 18ms/step - loss: 657.1462 - mean_absolute_error: 12.6363 - val_loss: 18746.6074 - val_mean_absolute_error: 74.1217\n",
      "Epoch 17/32\n",
      "116/116 [==============================] - 2s 18ms/step - loss: 668.4877 - mean_absolute_error: 12.7549 - val_loss: 18743.6406 - val_mean_absolute_error: 73.8767\n",
      "Epoch 18/32\n",
      "116/116 [==============================] - 2s 18ms/step - loss: 596.8607 - mean_absolute_error: 11.8846 - val_loss: 18975.1934 - val_mean_absolute_error: 73.1347\n",
      "Epoch 19/32\n",
      "116/116 [==============================] - 2s 18ms/step - loss: 506.7336 - mean_absolute_error: 10.7099 - val_loss: 18747.2559 - val_mean_absolute_error: 73.1831.71\n",
      "Epoch 20/32\n",
      "116/116 [==============================] - 2s 19ms/step - loss: 516.1948 - mean_absolute_error: 10.7745 - val_loss: 18966.4258 - val_mean_absolute_error: 74.8622\n",
      "Epoch 21/32\n",
      "116/116 [==============================] - 2s 18ms/step - loss: 490.1089 - mean_absolute_error: 10.6217 - val_loss: 18738.8379 - val_mean_absolute_error: 74.7783\n",
      "Epoch 22/32\n",
      "116/116 [==============================] - 2s 18ms/step - loss: 370.0362 - mean_absolute_error: 8.9721 - val_loss: 19165.0293 - val_mean_absolute_error: 75.4155\n",
      "Epoch 23/32\n",
      "116/116 [==============================] - 2s 19ms/step - loss: 302.6471 - mean_absolute_error: 7.6910 - val_loss: 18742.3086 - val_mean_absolute_error: 73.7656\n",
      "Epoch 24/32\n",
      "116/116 [==============================] - 2s 18ms/step - loss: 280.9344 - mean_absolute_error: 7.2211 - val_loss: 18894.5664 - val_mean_absolute_error: 75.4368\n",
      "Epoch 25/32\n",
      "116/116 [==============================] - 2s 18ms/step - loss: 284.1531 - mean_absolute_error: 7.4448 - val_loss: 18817.2344 - val_mean_absolute_error: 75.1129\n",
      "Epoch 26/32\n",
      "116/116 [==============================] - 2s 18ms/step - loss: 298.5560 - mean_absolute_error: 7.8581 - val_loss: 18697.8926 - val_mean_absolute_error: 74.8820\n",
      "Epoch 27/32\n",
      "116/116 [==============================] - 2s 18ms/step - loss: 313.1809 - mean_absolute_error: 8.0508 - val_loss: 18649.5586 - val_mean_absolute_error: 73.9317\n",
      "Epoch 28/32\n",
      "116/116 [==============================] - 2s 18ms/step - loss: 326.4903 - mean_absolute_error: 8.3470 - val_loss: 18936.4805 - val_mean_absolute_error: 75.7484\n",
      "Epoch 29/32\n",
      "116/116 [==============================] - 2s 19ms/step - loss: 295.1864 - mean_absolute_error: 7.8489 - val_loss: 18884.4648 - val_mean_absolute_error: 74.7993\n",
      "Epoch 30/32\n",
      "116/116 [==============================] - 2s 18ms/step - loss: 279.7502 - mean_absolute_error: 7.6130 - val_loss: 18786.9492 - val_mean_absolute_error: 74.8338\n",
      "Epoch 31/32\n",
      "116/116 [==============================] - 2s 18ms/step - loss: 306.8291 - mean_absolute_error: 8.0172 - val_loss: 19151.3359 - val_mean_absolute_error: 75.6091\n",
      "Epoch 32/32\n",
      "116/116 [==============================] - 2s 18ms/step - loss: 324.4453 - mean_absolute_error: 8.4998 - val_loss: 19206.4707 - val_mean_absolute_error: 76.8327\n"
     ]
    }
   ],
   "source": [
    "result = model.fit(X_train, y_train,\n",
    "                   epochs=32, batch_size=256*2,\n",
    "                   validation_data=(X_test, y_test),\n",
    "                   callbacks=[board_callback, checkpoint])"
   ]
  },
  {
   "cell_type": "code",
   "execution_count": 26,
   "metadata": {
    "scrolled": true
   },
   "outputs": [
    {
     "name": "stdout",
     "output_type": "stream",
     "text": [
      "Model: \"functional_1\"\n",
      "__________________________________________________________________________________________________\n",
      "Layer (type)                    Output Shape         Param #     Connected to                     \n",
      "==================================================================================================\n",
      "input_1 (InputLayer)            [(None, 1)]          0                                            \n",
      "__________________________________________________________________________________________________\n",
      "input_2 (InputLayer)            [(None, 1)]          0                                            \n",
      "__________________________________________________________________________________________________\n",
      "input_3 (InputLayer)            [(None, 1)]          0                                            \n",
      "__________________________________________________________________________________________________\n",
      "input_4 (InputLayer)            [(None, 1)]          0                                            \n",
      "__________________________________________________________________________________________________\n",
      "input_5 (InputLayer)            [(None, 1)]          0                                            \n",
      "__________________________________________________________________________________________________\n",
      "input_6 (InputLayer)            [(None, 1)]          0                                            \n",
      "__________________________________________________________________________________________________\n",
      "input_7 (InputLayer)            [(None, 1)]          0                                            \n",
      "__________________________________________________________________________________________________\n",
      "input_8 (InputLayer)            [(None, 1)]          0                                            \n",
      "__________________________________________________________________________________________________\n",
      "input_9 (InputLayer)            [(None, 1)]          0                                            \n",
      "__________________________________________________________________________________________________\n",
      "input_10 (InputLayer)           [(None, 1)]          0                                            \n",
      "__________________________________________________________________________________________________\n",
      "input_11 (InputLayer)           [(None, 1)]          0                                            \n",
      "__________________________________________________________________________________________________\n",
      "input_12 (InputLayer)           [(None, 1)]          0                                            \n",
      "__________________________________________________________________________________________________\n",
      "input_13 (InputLayer)           [(None, 1)]          0                                            \n",
      "__________________________________________________________________________________________________\n",
      "input_14 (InputLayer)           [(None, 1)]          0                                            \n",
      "__________________________________________________________________________________________________\n",
      "input_15 (InputLayer)           [(None, 1)]          0                                            \n",
      "__________________________________________________________________________________________________\n",
      "input_16 (InputLayer)           [(None, 1)]          0                                            \n",
      "__________________________________________________________________________________________________\n",
      "embedding (Embedding)           (None, 1, 10)        180         input_1[0][0]                    \n",
      "__________________________________________________________________________________________________\n",
      "embedding_1 (Embedding)         (None, 1, 10)        30          input_2[0][0]                    \n",
      "__________________________________________________________________________________________________\n",
      "embedding_2 (Embedding)         (None, 1, 10)        160         input_3[0][0]                    \n",
      "__________________________________________________________________________________________________\n",
      "embedding_3 (Embedding)         (None, 1, 10)        1790        input_4[0][0]                    \n",
      "__________________________________________________________________________________________________\n",
      "embedding_4 (Embedding)         (None, 1, 10)        50          input_5[0][0]                    \n",
      "__________________________________________________________________________________________________\n",
      "embedding_5 (Embedding)         (None, 1, 10)        50          input_6[0][0]                    \n",
      "__________________________________________________________________________________________________\n",
      "embedding_6 (Embedding)         (None, 1, 10)        20          input_7[0][0]                    \n",
      "__________________________________________________________________________________________________\n",
      "embedding_7 (Embedding)         (None, 1, 10)        60          input_8[0][0]                    \n",
      "__________________________________________________________________________________________________\n",
      "embedding_8 (Embedding)         (None, 1, 10)        1630        input_9[0][0]                    \n",
      "__________________________________________________________________________________________________\n",
      "embedding_9 (Embedding)         (None, 1, 10)        1630        input_10[0][0]                   \n",
      "__________________________________________________________________________________________________\n",
      "embedding_10 (Embedding)        (None, 1, 10)        20          input_11[0][0]                   \n",
      "__________________________________________________________________________________________________\n",
      "embedding_11 (Embedding)        (None, 1, 10)        592880      input_12[0][0]                   \n",
      "__________________________________________________________________________________________________\n",
      "embedding_12 (Embedding)        (None, 1, 10)        592880      input_13[0][0]                   \n",
      "__________________________________________________________________________________________________\n",
      "embedding_13 (Embedding)        (None, 1, 10)        3560        input_14[0][0]                   \n",
      "__________________________________________________________________________________________________\n",
      "embedding_14 (Embedding)        (None, 1, 10)        820         input_15[0][0]                   \n",
      "__________________________________________________________________________________________________\n",
      "embedding_15 (Embedding)        (None, 1, 10)        1120        input_16[0][0]                   \n",
      "__________________________________________________________________________________________________\n",
      "concatenate (Concatenate)       (None, 1, 160)       0           embedding[0][0]                  \n",
      "                                                                 embedding_1[0][0]                \n",
      "                                                                 embedding_2[0][0]                \n",
      "                                                                 embedding_3[0][0]                \n",
      "                                                                 embedding_4[0][0]                \n",
      "                                                                 embedding_5[0][0]                \n",
      "                                                                 embedding_6[0][0]                \n",
      "                                                                 embedding_7[0][0]                \n",
      "                                                                 embedding_8[0][0]                \n",
      "                                                                 embedding_9[0][0]                \n",
      "                                                                 embedding_10[0][0]               \n",
      "                                                                 embedding_11[0][0]               \n",
      "                                                                 embedding_12[0][0]               \n",
      "                                                                 embedding_13[0][0]               \n",
      "                                                                 embedding_14[0][0]               \n",
      "                                                                 embedding_15[0][0]               \n",
      "__________________________________________________________________________________________________\n",
      "dense (Dense)                   (None, 1, 512)       82432       concatenate[0][0]                \n",
      "__________________________________________________________________________________________________\n",
      "dense_1 (Dense)                 (None, 1, 512)       262656      dense[0][0]                      \n",
      "__________________________________________________________________________________________________\n",
      "dense_2 (Dense)                 (None, 1, 512)       262656      dense_1[0][0]                    \n",
      "__________________________________________________________________________________________________\n",
      "dense_3 (Dense)                 (None, 1, 1)         513         dense_2[0][0]                    \n",
      "==================================================================================================\n",
      "Total params: 1,805,137\n",
      "Trainable params: 1,805,137\n",
      "Non-trainable params: 0\n",
      "__________________________________________________________________________________________________\n"
     ]
    }
   ],
   "source": [
    "result.model.summary()"
   ]
  },
  {
   "cell_type": "code",
   "execution_count": 27,
   "metadata": {},
   "outputs": [
    {
     "name": "stdout",
     "output_type": "stream",
     "text": [
      "1853/1853 [==============================] - 2s 1ms/step - loss: 452.3092 - mean_absolute_error: 9.8648\n"
     ]
    },
    {
     "data": {
      "text/plain": [
       "[452.3091735839844, 9.864782333374023]"
      ]
     },
     "execution_count": 27,
     "metadata": {},
     "output_type": "execute_result"
    }
   ],
   "source": [
    "result.model.evaluate(X_train, y_train)"
   ]
  },
  {
   "cell_type": "code",
   "execution_count": 28,
   "metadata": {},
   "outputs": [
    {
     "name": "stdout",
     "output_type": "stream",
     "text": [
      "464/464 [==============================] - 1s 1ms/step - loss: 19206.4707 - mean_absolute_error: 76.8327\n"
     ]
    },
    {
     "data": {
      "text/plain": [
       "[19206.470703125, 76.83271026611328]"
      ]
     },
     "execution_count": 28,
     "metadata": {},
     "output_type": "execute_result"
    }
   ],
   "source": [
    "result.model.evaluate(X_test, y_test)"
   ]
  },
  {
   "cell_type": "code",
   "execution_count": 29,
   "metadata": {
    "scrolled": true
   },
   "outputs": [
    {
     "data": {
      "text/plain": [
       "Reusing TensorBoard on port 6006 (pid 23624), started 1 day, 21:57:42 ago. (Use '!kill 23624' to kill it.)"
      ]
     },
     "metadata": {},
     "output_type": "display_data"
    },
    {
     "data": {
      "text/html": [
       "\n",
       "      <iframe id=\"tensorboard-frame-c5ffd71dd2092c2\" width=\"100%\" height=\"800\" frameborder=\"0\">\n",
       "      </iframe>\n",
       "      <script>\n",
       "        (function() {\n",
       "          const frame = document.getElementById(\"tensorboard-frame-c5ffd71dd2092c2\");\n",
       "          const url = new URL(\"/\", window.location);\n",
       "          const port = 6006;\n",
       "          if (port) {\n",
       "            url.port = port;\n",
       "          }\n",
       "          frame.src = url;\n",
       "        })();\n",
       "      </script>\n",
       "    "
      ],
      "text/plain": [
       "<IPython.core.display.HTML object>"
      ]
     },
     "metadata": {},
     "output_type": "display_data"
    }
   ],
   "source": [
    "%tensorboard --logdir logs"
   ]
  },
  {
   "cell_type": "code",
   "execution_count": 30,
   "metadata": {},
   "outputs": [
    {
     "data": {
      "image/png": "[encoded data removed]",
      "text/plain": [
       "<Figure size 432x288 with 1 Axes>"
      ]
     },
     "metadata": {},
     "output_type": "display_data"
    }
   ],
   "source": [
    "df = pd.DataFrame.from_records(result.history)\n",
    "df['epoch'] = [i for i in range(df.shape[0])]\n",
    "\n",
    "plt.plot(df['epoch'], df['val_mean_absolute_error'], label=\"VMAE\")\n",
    "plt.plot(df['epoch'], df['mean_absolute_error'], label=\"MAE\")\n",
    "# plt.xticks(df['epoch'])\n",
    "plt.ylabel(\"Error\")\n",
    "plt.xlabel(\"Epochs\")\n",
    "plt.legend()\n",
    "plt.show()"
   ]
  },
  {
   "cell_type": "code",
   "execution_count": 31,
   "metadata": {
    "scrolled": true
   },
   "outputs": [],
   "source": [
    "result.model.save('keras_model.h5')"
   ]
  },
  {
   "cell_type": "code",
   "execution_count": 208,
   "metadata": {},
   "outputs": [
    {
     "data": {
      "text/plain": [
       "array([[[202.95943]],\n",
       "\n",
       "       [[159.12132]],\n",
       "\n",
       "       [[ 99.53608]],\n",
       "\n",
       "       ...,\n",
       "\n",
       "       [[130.94455]],\n",
       "\n",
       "       [[ 60.82999]],\n",
       "\n",
       "       [[ 50.87064]]], dtype=float32)"
      ]
     },
     "execution_count": 208,
     "metadata": {},
     "output_type": "execute_result"
    }
   ],
   "source": [
    "result.model.predict(X_test)"
   ]
  },
  {
   "cell_type": "code",
   "execution_count": 2,
   "metadata": {},
   "outputs": [],
   "source": [
    "ins_array = ['Apartment', 'Entire home/apt', 3, 1.0, 'Real Bed',\n",
    "          'strict', True, 'NYC', 1,\n",
    "          1, 0, 40.696524, -73.991617,\n",
    "          2, 1.0, 1.0]"
   ]
  },
  {
   "cell_type": "code",
   "execution_count": 3,
   "metadata": {},
   "outputs": [
    {
     "ename": "NameError",
     "evalue": "name 'pd' is not defined",
     "output_type": "error",
     "traceback": [
      "\u001b[1;31m---------------------------------------------------------------------------\u001b[0m",
      "\u001b[1;31mNameError\u001b[0m                                 Traceback (most recent call last)",
      "\u001b[1;32m<ipython-input-3-532dee1d7a91>\u001b[0m in \u001b[0;36m<module>\u001b[1;34m\u001b[0m\n\u001b[1;32m----> 1\u001b[1;33m \u001b[0mpd\u001b[0m\u001b[1;33m.\u001b[0m\u001b[0mget_dummies\u001b[0m\u001b[1;33m(\u001b[0m\u001b[0mins_array\u001b[0m\u001b[1;33m)\u001b[0m\u001b[1;33m\u001b[0m\u001b[1;33m\u001b[0m\u001b[0m\n\u001b[0m",
      "\u001b[1;31mNameError\u001b[0m: name 'pd' is not defined"
     ]
    }
   ],
   "source": [
    "pd.get_dummies(ins_array)"
   ]
  },
  {
   "cell_type": "code",
   "execution_count": 1,
   "metadata": {},
   "outputs": [
    {
     "ename": "NameError",
     "evalue": "name 'ins_array' is not defined",
     "output_type": "error",
     "traceback": [
      "\u001b[1;31m---------------------------------------------------------------------------\u001b[0m",
      "\u001b[1;31mNameError\u001b[0m                                 Traceback (most recent call last)",
      "\u001b[1;32m<ipython-input-1-7bd0dac2c27c>\u001b[0m in \u001b[0;36m<module>\u001b[1;34m\u001b[0m\n\u001b[1;32m----> 1\u001b[1;33m \u001b[0mins_array\u001b[0m\u001b[1;33m[\u001b[0m\u001b[1;36m0\u001b[0m\u001b[1;33m]\u001b[0m\u001b[1;33m\u001b[0m\u001b[1;33m\u001b[0m\u001b[0m\n\u001b[0m",
      "\u001b[1;31mNameError\u001b[0m: name 'ins_array' is not defined"
     ]
    }
   ],
   "source": [
    "ins_array[0]"
   ]
  },
  {
   "cell_type": "code",
   "execution_count": 327,
   "metadata": {},
   "outputs": [],
   "source": [
    "nums_array = [1, 5, 3, 1.0, 56,\n",
    "          6, 7, 5, 1,\n",
    "          1, 0, 40.696524, -73.991617,\n",
    "          2, 1.0, 1.0]\n",
    "\n",
    "nums_array = [1]"
   ]
  },
  {
   "cell_type": "code",
   "execution_count": 328,
   "metadata": {},
   "outputs": [],
   "source": [
    "array = [['Apartment'], ['Entire home/apt'], [3], [1.0], ['Real Bed'],\n",
    "         ['strict'], [True], ['NYC'], [1],\n",
    "         [1], [0], [40.696524], [-73.991617],\n",
    "         [2], [1.0], [1.0]]"
   ]
  },
  {
   "cell_type": "code",
   "execution_count": 329,
   "metadata": {},
   "outputs": [
    {
     "name": "stdout",
     "output_type": "stream",
     "text": [
      "16\n"
     ]
    },
    {
     "data": {
      "text/plain": [
       "[['Apartment'],\n",
       " ['Entire home/apt'],\n",
       " [3],\n",
       " [1.0],\n",
       " ['Real Bed'],\n",
       " ['strict'],\n",
       " [True],\n",
       " ['NYC'],\n",
       " [1],\n",
       " [1],\n",
       " [0],\n",
       " [40.696524],\n",
       " [-73.991617],\n",
       " [2],\n",
       " [1.0],\n",
       " [1.0]]"
      ]
     },
     "execution_count": 329,
     "metadata": {},
     "output_type": "execute_result"
    }
   ],
   "source": [
    "print(len(array))\n",
    "array"
   ]
  },
  {
   "cell_type": "code",
   "execution_count": 330,
   "metadata": {},
   "outputs": [
    {
     "name": "stdout",
     "output_type": "stream",
     "text": [
      "16\n"
     ]
    },
    {
     "data": {
      "text/plain": [
       "Index(['property_type', 'room_type', 'accommodates', 'bathrooms', 'bed_type',\n",
       "       'cancellation_policy', 'cleaning_fee', 'city', 'host_has_profile_pic',\n",
       "       'host_identity_verified', 'instant_bookable', 'latitude', 'longitude',\n",
       "       'number_of_reviews', 'bedrooms', 'beds'],\n",
       "      dtype='object')"
      ]
     },
     "execution_count": 330,
     "metadata": {},
     "output_type": "execute_result"
    }
   ],
   "source": [
    "print(len(X.columns))\n",
    "X.columns"
   ]
  },
  {
   "cell_type": "code",
   "execution_count": 331,
   "metadata": {},
   "outputs": [],
   "source": [
    "array = pd.DataFrame(array)"
   ]
  },
  {
   "cell_type": "code",
   "execution_count": 332,
   "metadata": {},
   "outputs": [],
   "source": [
    "array = array.T"
   ]
  },
  {
   "cell_type": "code",
   "execution_count": 333,
   "metadata": {},
   "outputs": [],
   "source": [
    "array = pd.DataFrame(array, columns=X.columns)"
   ]
  },
  {
   "cell_type": "code",
   "execution_count": 334,
   "metadata": {},
   "outputs": [
    {
     "name": "stdout",
     "output_type": "stream",
     "text": [
      "(1, 16)\n"
     ]
    },
    {
     "data": {
      "text/html": [
       "<div>\n",
       "<style scoped>\n",
       "    .dataframe tbody tr th:only-of-type {\n",
       "        vertical-align: middle;\n",
       "    }\n",
       "\n",
       "    .dataframe tbody tr th {\n",
       "        vertical-align: top;\n",
       "    }\n",
       "\n",
       "    .dataframe thead th {\n",
       "        text-align: right;\n",
       "    }\n",
       "</style>\n",
       "<table border=\"1\" class=\"dataframe\">\n",
       "  <thead>\n",
       "    <tr style=\"text-align: right;\">\n",
       "      <th></th>\n",
       "      <th>property_type</th>\n",
       "      <th>room_type</th>\n",
       "      <th>accommodates</th>\n",
       "      <th>bathrooms</th>\n",
       "      <th>bed_type</th>\n",
       "      <th>cancellation_policy</th>\n",
       "      <th>cleaning_fee</th>\n",
       "      <th>city</th>\n",
       "      <th>host_has_profile_pic</th>\n",
       "      <th>host_identity_verified</th>\n",
       "      <th>instant_bookable</th>\n",
       "      <th>latitude</th>\n",
       "      <th>longitude</th>\n",
       "      <th>number_of_reviews</th>\n",
       "      <th>bedrooms</th>\n",
       "      <th>beds</th>\n",
       "    </tr>\n",
       "  </thead>\n",
       "  <tbody>\n",
       "    <tr>\n",
       "      <th>0</th>\n",
       "      <td>Apartment</td>\n",
       "      <td>Entire home/apt</td>\n",
       "      <td>3.0</td>\n",
       "      <td>1.0</td>\n",
       "      <td>Real Bed</td>\n",
       "      <td>strict</td>\n",
       "      <td>1.0</td>\n",
       "      <td>NYC</td>\n",
       "      <td>1.0</td>\n",
       "      <td>1.0</td>\n",
       "      <td>0.0</td>\n",
       "      <td>40.696524</td>\n",
       "      <td>-73.991617</td>\n",
       "      <td>2.0</td>\n",
       "      <td>1.0</td>\n",
       "      <td>1.0</td>\n",
       "    </tr>\n",
       "  </tbody>\n",
       "</table>\n",
       "</div>"
      ],
      "text/plain": [
       "  property_type        room_type  accommodates  bathrooms  bed_type  \\\n",
       "0     Apartment  Entire home/apt           3.0        1.0  Real Bed   \n",
       "\n",
       "  cancellation_policy  cleaning_fee city  host_has_profile_pic  \\\n",
       "0              strict           1.0  NYC                   1.0   \n",
       "\n",
       "   host_identity_verified  instant_bookable   latitude  longitude  \\\n",
       "0                     1.0               0.0  40.696524 -73.991617   \n",
       "\n",
       "   number_of_reviews  bedrooms  beds  \n",
       "0                2.0       1.0   1.0  "
      ]
     },
     "execution_count": 334,
     "metadata": {},
     "output_type": "execute_result"
    }
   ],
   "source": [
    "array.loc[-1] = ins_array\n",
    "array.index = array.index + 1\n",
    "array = array.sort_index()\n",
    "array = array.drop([1])\n",
    "print(array.shape)\n",
    "array"
   ]
  },
  {
   "cell_type": "code",
   "execution_count": 315,
   "metadata": {},
   "outputs": [],
   "source": [
    "array_x = np.asarray(array)\n",
    "# array_x = list(array_x)"
   ]
  },
  {
   "cell_type": "code",
   "execution_count": 335,
   "metadata": {
    "scrolled": true
   },
   "outputs": [],
   "source": [
    "emm = []\n",
    "for i in array.loc[0]:\n",
    "    d_array = np.asarray(nums_array)\n",
    "    emm.append(d_array)"
   ]
  },
  {
   "cell_type": "code",
   "execution_count": 336,
   "metadata": {
    "scrolled": true
   },
   "outputs": [
    {
     "data": {
      "text/plain": [
       "[array([1]),\n",
       " array([1]),\n",
       " array([1]),\n",
       " array([1]),\n",
       " array([1]),\n",
       " array([1]),\n",
       " array([1]),\n",
       " array([1]),\n",
       " array([1]),\n",
       " array([1]),\n",
       " array([1]),\n",
       " array([1]),\n",
       " array([1]),\n",
       " array([1]),\n",
       " array([1]),\n",
       " array([1])]"
      ]
     },
     "execution_count": 336,
     "metadata": {},
     "output_type": "execute_result"
    }
   ],
   "source": [
    "emm"
   ]
  },
  {
   "cell_type": "code",
   "execution_count": 318,
   "metadata": {
    "collapsed": true
   },
   "outputs": [
    {
     "data": {
      "text/plain": [
       "array([[  1.      ,   5.      ,   3.      ,   1.      ,  56.      ,\n",
       "          6.      ,   7.      ,   5.      ,   1.      ,   1.      ,\n",
       "          0.      ,  40.696524, -73.991617,   2.      ,   1.      ,\n",
       "          1.      ]])"
      ]
     },
     "execution_count": 318,
     "metadata": {},
     "output_type": "execute_result"
    }
   ],
   "source": [
    "d_array"
   ]
  },
  {
   "cell_type": "code",
   "execution_count": 319,
   "metadata": {
    "collapsed": true
   },
   "outputs": [
    {
     "data": {
      "text/plain": [
       "array([[  1.      ,   5.      ,   3.      ,   1.      ,  56.      ,\n",
       "          6.      ,   7.      ,   5.      ,   1.      ,   1.      ,\n",
       "          0.      ,  40.696524, -73.991617,   2.      ,   1.      ,\n",
       "          1.      ]])"
      ]
     },
     "execution_count": 319,
     "metadata": {},
     "output_type": "execute_result"
    }
   ],
   "source": [
    "array_x"
   ]
  },
  {
   "cell_type": "code",
   "execution_count": 320,
   "metadata": {
    "collapsed": true
   },
   "outputs": [
    {
     "name": "stdout",
     "output_type": "stream",
     "text": [
      "1\n"
     ]
    },
    {
     "data": {
      "text/plain": [
       "array([[  1.      ,   5.      ,   3.      ,   1.      ,  56.      ,\n",
       "          6.      ,   7.      ,   5.      ,   1.      ,   1.      ,\n",
       "          0.      ,  40.696524, -73.991617,   2.      ,   1.      ,\n",
       "          1.      ]])"
      ]
     },
     "execution_count": 320,
     "metadata": {},
     "output_type": "execute_result"
    }
   ],
   "source": [
    "print(len(array_x))\n",
    "array_x"
   ]
  },
  {
   "cell_type": "code",
   "execution_count": 344,
   "metadata": {
    "scrolled": true
   },
   "outputs": [
    {
     "data": {
      "text/plain": [
       "array([[[49.513145]]], dtype=float32)"
      ]
     },
     "execution_count": 344,
     "metadata": {},
     "output_type": "execute_result"
    }
   ],
   "source": [
    "result.model.predict(emm)"
   ]
  },
  {
   "cell_type": "code",
   "execution_count": 235,
   "metadata": {},
   "outputs": [
    {
     "data": {
      "text/plain": [
       "[array([ 0,  0, 11, ..., 16,  0,  0]),\n",
       " array([0, 0, 1, ..., 0, 1, 1]),\n",
       " array([2, 1, 2, ..., 5, 1, 2], dtype=int64),\n",
       " array([2, 2, 3, ..., 2, 2, 4], dtype=int64),\n",
       " array([4, 4, 4, ..., 4, 4, 4]),\n",
       " array([0, 0, 1, ..., 1, 2, 1]),\n",
       " array([0, 1, 1, ..., 1, 0, 1], dtype=int64),\n",
       " array([4, 4, 4, ..., 3, 0, 3]),\n",
       " array([1, 1, 0, ..., 1, 1, 1], dtype=int64),\n",
       " array([1, 1, 0, ..., 1, 1, 1], dtype=int64),\n",
       " array([1, 0, 0, ..., 0, 0, 1]),\n",
       " array([13331, 10793,  7426, ...,  2258, 14494,  1921], dtype=int64),\n",
       " array([12910,  7902, 11891, ...,  3414, 14391,  1939], dtype=int64),\n",
       " array([ 0,  0,  0, ..., 35,  4, 23], dtype=int64),\n",
       " array([2, 1, 1, ..., 2, 1, 1], dtype=int64),\n",
       " array([1, 1, 1, ..., 4, 1, 2], dtype=int64)]"
      ]
     },
     "execution_count": 235,
     "metadata": {},
     "output_type": "execute_result"
    }
   ],
   "source": [
    "X_test"
   ]
  }
 ],
 "metadata": {
  "kernelspec": {
   "display_name": "Python 3",
   "language": "python",
   "name": "python3"
  },
  "language_info": {
   "codemirror_mode": {
    "name": "ipython",
    "version": 3
   },
   "file_extension": ".py",
   "mimetype": "text/x-python",
   "name": "python",
   "nbconvert_exporter": "python",
   "pygments_lexer": "ipython3",
   "version": "3.8.5"
  }
 },
 "nbformat": 4,
 "nbformat_minor": 4
}
